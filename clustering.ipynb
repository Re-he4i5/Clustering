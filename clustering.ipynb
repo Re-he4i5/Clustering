{
  "cells": [
    {
      "cell_type": "markdown",
      "metadata": {
        "id": "GsIw193NF97A"
      },
      "source": [
        "# 準備"
      ]
    },
    {
      "cell_type": "code",
      "execution_count": null,
      "metadata": {
        "colab": {
          "base_uri": "https://localhost:8080/"
        },
        "id": "bu17TsieDDhU",
        "outputId": "33995458-fae6-451a-b671-631523a6ff5f"
      },
      "outputs": [],
      "source": [
        "import pandas as pd\n",
        "import cv2\n",
        "!pip install japanize_matplotlib\n",
        "import japanize_matplotlib\n",
        "import matplotlib.pyplot as plt\n",
        "import numpy as np\n",
        "from scipy.cluster.hierarchy import linkage, dendrogram, fcluster, set_link_color_palette\n",
        "from PIL import Image\n",
        "from sklearn.cluster import KMeans\n",
        "\n",
        "#20220203追記\n",
        "!pip install --upgrade openpyxl"
      ]
    },
    {
      "cell_type": "code",
      "execution_count": null,
      "metadata": {
        "colab": {
          "base_uri": "https://localhost:8080/"
        },
        "id": "_xo74lftkz-Z",
        "outputId": "6ef7c4c9-ee7d-42f3-b421-b16238cda66a"
      },
      "outputs": [],
      "source": [
        "from google.colab import drive\n",
        "drive.mount('/content/drive')"
      ]
    },
    {
      "cell_type": "markdown",
      "metadata": {
        "id": "XFVZvvfi6bTS"
      },
      "source": [
        "# クラスタリング:DSQに対するウォード法"
      ]
    },
    {
      "cell_type": "code",
      "execution_count": null,
      "metadata": {
        "colab": {
          "base_uri": "https://localhost:8080/"
        },
        "id": "-pKsV5RcDZe2",
        "outputId": "837e4d14-8689-449b-f6b1-3d13f5586768"
      },
      "outputs": [],
      "source": [
        "#DSQファイルの読み込み\n",
        "path_dsq = 'path'\n",
        "dsq_raw = pd.read_excel(path_dsq,index_col=0)\n",
        "dsq_trim = dsq_raw.iloc[20:28, 1:21]\n",
        "print(dsq_trim)"
      ]
    },
    {
      "cell_type": "code",
      "execution_count": null,
      "metadata": {
        "colab": {
          "base_uri": "https://localhost:8080/"
        },
        "id": "Rj1XmkL9ITv3",
        "outputId": "5f6ac427-9028-4853-c82f-6fa0b74ba083"
      },
      "outputs": [],
      "source": [
        "dsq=dsq_trim.transpose()\n",
        "print(dsq)"
      ]
    },
    {
      "cell_type": "code",
      "execution_count": null,
      "metadata": {
        "colab": {
          "base_uri": "https://localhost:8080/",
          "height": 791
        },
        "id": "JR2OWN-YEpNZ",
        "outputId": "1197d524-00ed-432e-eb53-db6162c74242"
      },
      "outputs": [],
      "source": [
        "#ウォード法によるクラスタリング\n",
        "linkage_result_dsq = linkage(dsq, method='ward', metric='euclidean')\n",
        "#スライド用\n",
        "#plt.figure(num=None, figsize=(9, 3), facecolor='white', edgecolor='black',dpi=350)\n",
        "#\n",
        "plt.figure(num=None, figsize=(5, 2), facecolor='white', edgecolor='black',dpi=350)\n",
        "set_link_color_palette(['red', 'blue']) \n",
        "dendrogram(linkage_result_dsq, labels=dsq.index,color_threshold=5,above_threshold_color='purple')\n",
        "plt.savefig(\"path\", format=\"eps\")\n",
        "plt.tick_params(labelsize=13)\n",
        "plt.tick_params(axis='y', which='major', labelsize=13)\n",
        "plt.xlabel('Subjects',fontsize=13)\n",
        "plt.ylabel('Distance',fontsize=13)\n",
        "plt.savefig(\"path\", format=\"png\")\n",
        "dsq_ward = cv2.imread(\"path\")\n",
        "\n",
        "plt.show()"
      ]
    },
    {
      "cell_type": "markdown",
      "metadata": {
        "id": "YN_tC_qu6tBx"
      },
      "source": [
        "# クラスタリング:WSQに対するウォード法"
      ]
    },
    {
      "cell_type": "code",
      "execution_count": null,
      "metadata": {
        "colab": {
          "base_uri": "https://localhost:8080/"
        },
        "id": "_BTvKHDCAqoq",
        "outputId": "6c156422-87c2-402e-a2bc-ea5b3b91573a"
      },
      "outputs": [],
      "source": [
        "#WSQファイルの読み込み\n",
        "path_wsq = 'path'\n",
        "wsq_raw = pd.read_excel(path_wsq,index_col=0)\n",
        "wsq_trim = wsq_raw.iloc[40:50, 1:21]\n",
        "print(wsq_trim)"
      ]
    },
    {
      "cell_type": "code",
      "execution_count": null,
      "metadata": {
        "colab": {
          "base_uri": "https://localhost:8080/"
        },
        "id": "uP1tRNCIAsY5",
        "outputId": "403e8ed0-e91e-43fa-a1d1-7fbbecc46473"
      },
      "outputs": [],
      "source": [
        "wsq=wsq_trim.transpose()\n",
        "print(wsq)"
      ]
    },
    {
      "cell_type": "code",
      "execution_count": null,
      "metadata": {
        "colab": {
          "base_uri": "https://localhost:8080/",
          "height": 786
        },
        "id": "o3rTg7k6AvKh",
        "outputId": "19fa7f19-f95a-4bc3-e01e-2621e66784b0"
      },
      "outputs": [],
      "source": [
        "linkage_result_wsq = linkage(wsq, method='ward', metric='euclidean')\n",
        "plt.figure(num=None, figsize=(5, 2), facecolor='white', edgecolor='black',dpi = 350)\n",
        "set_link_color_palette(['red', 'blue','green']) \n",
        "dendrogram(linkage_result_wsq, labels=wsq.index,color_threshold=5,above_threshold_color='purple')\n",
        "plt.tick_params(labelsize=13)\n",
        "plt.tick_params(axis='y', which='major', labelsize=13)\n",
        "plt.xlabel(\"Subjects\",fontsize=13)\n",
        "plt.ylabel(\"Distance\",fontsize=13)\n",
        "#plt.savefig(\"path\", format=\"eps\")\n",
        "plt.savefig(\"path\", format=\"png\")\n",
        "wsq_ward = cv2.imread(\"path\")\n",
        "\n",
        "plt.show()"
      ]
    },
    {
      "cell_type": "markdown",
      "metadata": {
        "id": "lp7TaUm_6Xf6"
      },
      "source": [
        "# クラスタリング:被験者Cを外れ値とした場合のウォード法"
      ]
    },
    {
      "cell_type": "code",
      "execution_count": null,
      "metadata": {
        "colab": {
          "base_uri": "https://localhost:8080/"
        },
        "id": "nrOwYRll6WU0",
        "outputId": "8173a462-93c2-4635-85d4-bff7755a678d"
      },
      "outputs": [],
      "source": [
        "#DSQ,WSQから被験者Cをトリミングする\n",
        "dsq_rm_c = dsq.drop([\"C\"], axis=0)\n",
        "wsq_rm_c = wsq.drop([\"C\"], axis=0)\n",
        "print(dsq_rm_c)\n",
        "print('--------')\n",
        "print(wsq_rm_c)"
      ]
    },
    {
      "cell_type": "code",
      "execution_count": null,
      "metadata": {
        "colab": {
          "base_uri": "https://localhost:8080/",
          "height": 966
        },
        "id": "Rj8JqK-z9Bls",
        "outputId": "881e33db-4fc8-4b43-de2a-3a522fb7121e"
      },
      "outputs": [],
      "source": [
        "#被験者Cを除いたDSQに対するウォード法クラスタリング\n",
        "linkage_result_dsq_rm_c = linkage(dsq_rm_c, method='ward', metric='euclidean')\n",
        "plt.figure(num=None, figsize=(5, 3), facecolor='white', edgecolor='black',dpi = 350)\n",
        "dendrogram(linkage_result_dsq_rm_c, labels=dsq_rm_c.index)\n",
        "plt.savefig(\"path\", format=\"png\")\n",
        "dsq_ward_rm_c = cv2.imread(\"path\")\n",
        "plt.show()"
      ]
    },
    {
      "cell_type": "code",
      "execution_count": null,
      "metadata": {
        "colab": {
          "base_uri": "https://localhost:8080/",
          "height": 966
        },
        "id": "sj6-BRo59H6s",
        "outputId": "16cd3bfa-aad1-4e56-f265-fc0d75e4d192"
      },
      "outputs": [],
      "source": [
        "#被験者Cを除いたWSQに対するウォード法クラスタリング\n",
        "linkage_result_wsq_rm_c = linkage(wsq_rm_c, method='ward', metric='euclidean')\n",
        "plt.figure(num=None, figsize=(5, 3), facecolor='white', edgecolor='black',dpi=350)\n",
        "dendrogram(linkage_result_wsq_rm_c, labels=wsq_rm_c.index)\n",
        "plt.savefig(\"path\", format=\"png\")\n",
        "wsq_ward_rm_c = cv2.imread(\"path\")\n",
        "plt.show()"
      ]
    },
    {
      "cell_type": "markdown",
      "metadata": {
        "id": "d0WSNy2u9qCJ"
      },
      "source": [
        "# 図のまとめ"
      ]
    },
    {
      "cell_type": "code",
      "execution_count": null,
      "metadata": {
        "id": "EBFTKBvbIQ43"
      },
      "outputs": [],
      "source": [
        "plt.figure(figsize=(20, 12))\n",
        "plt.rcParams[\"font.size\"] = 18\n",
        "\n",
        "\n",
        "plt.subplot(221).imshow(dsq_ward)\n",
        "plt.axis(\"off\")\n",
        "plt.title('DSQ_ward')\n",
        "\n",
        "\n",
        "plt.subplot(222).imshow(wsq_ward)\n",
        "plt.axis(\"off\")\n",
        "plt.title('WSQ_ward')\n",
        "\n",
        "\n",
        "plt.subplot(223).imshow(dsq_ward_rm_c)\n",
        "plt.axis(\"off\")\n",
        "plt.title('dsq_ward_rm_c')\n",
        "\n",
        "\n",
        "plt.subplot(224).imshow(wsq_ward_rm_c)\n",
        "plt.axis(\"off\")\n",
        "plt.title('wsq_ward_rm_c')"
      ]
    },
    {
      "cell_type": "markdown",
      "metadata": {
        "id": "y5f18FQ6TiPM"
      },
      "source": [
        "# クラスタリング:DSQに対するk-means"
      ]
    },
    {
      "cell_type": "code",
      "execution_count": null,
      "metadata": {
        "colab": {
          "base_uri": "https://localhost:8080/",
          "height": 1000
        },
        "id": "BydhwGetTrwE",
        "outputId": "60479dc7-cea6-4a61-fe43-d2baf22c659a"
      },
      "outputs": [],
      "source": [
        "path_dsq = 'path'\n",
        "dsq_raw = pd.read_excel(path_dsq,index_col=0)\n",
        "dsq_trim = dsq_raw.iloc[20:28, 1:21]\n",
        "#print(dsq_trim)\n",
        "dsq=dsq_trim.transpose()\n",
        "cust_array = np.array([dsq[1].tolist(),\n",
        "                       dsq[2].tolist(),\n",
        "                       dsq[3].tolist(),\n",
        "                       dsq[4].tolist(),\n",
        "                       dsq[5].tolist(),\n",
        "                       dsq[6].tolist(),\n",
        "                       dsq[7].tolist(),\n",
        "                       dsq[8].tolist(),\n",
        "                       ])\n",
        "cust_array = cust_array.T\n",
        "#cust_array\n",
        "'''\n",
        "for i in range(1000,1000000):\n",
        "  random = np.random.RandomState(i)\n",
        "  pred = KMeans(n_clusters=2,random_state=random,n_init=50).fit_predict(cust_array)\n",
        "  dsq['cluster_id']=pred\n",
        "  #print(dsq.sort_values('cluster_id'))\n",
        "  G = dsq.loc[['G','I'],['cluster_id']]\n",
        "  #print(G)\n",
        "  G = dsq.at['G', 'cluster_id']\n",
        "  I = dsq.at['I', 'cluster_id']\n",
        "  #print(G)\n",
        "  #print(I)\n",
        "  if G != I:\n",
        "    print(i)\n",
        "  if i == 50000:\n",
        "    print(i)\n",
        "'''\n",
        "\n",
        "random = np.random.RandomState(528)\n",
        "pred = KMeans(n_clusters=2,random_state=random,n_init=50).fit_predict(cust_array)\n",
        "dsq['cluster_id']=pred\n",
        "print(dsq.sort_values('cluster_id'))\n",
        "dsq"
      ]
    },
    {
      "cell_type": "code",
      "execution_count": null,
      "metadata": {
        "colab": {
          "base_uri": "https://localhost:8080/"
        },
        "id": "8Vh-nYcmA8zn",
        "outputId": "1c12b42b-7c84-4f72-957d-76ff42912ad9"
      },
      "outputs": [],
      "source": [
        "dsq['cluster_id'].value_counts(ascending=True)"
      ]
    },
    {
      "cell_type": "markdown",
      "metadata": {
        "id": "dI4tyPvfTr_8"
      },
      "source": [
        "# クラスタリング:WSQに対するk-means"
      ]
    },
    {
      "cell_type": "code",
      "execution_count": null,
      "metadata": {
        "colab": {
          "base_uri": "https://localhost:8080/",
          "height": 1000
        },
        "id": "JWkGuVd5TwS7",
        "outputId": "19d3e6b5-704d-4155-fea9-d38092949b31"
      },
      "outputs": [],
      "source": [
        "path_wsq = 'path'\n",
        "wsq_raw = pd.read_excel(path_wsq,index_col=0)\n",
        "wsq_trim = wsq_raw.iloc[40:50, 1:21]\n",
        "wsq=wsq_trim.transpose()\n",
        "wsq\n",
        "cust_array = np.array([wsq[1].tolist(),\n",
        "                       wsq[2].tolist(),\n",
        "                       wsq[3].tolist(),\n",
        "                       wsq[4].tolist(),\n",
        "                       wsq[5].tolist(),\n",
        "                       wsq[6].tolist(),\n",
        "                       wsq[7].tolist(),\n",
        "                       wsq[8].tolist(),\n",
        "                       wsq[9].tolist(),\n",
        "                       wsq[10].tolist(),\n",
        "                       ])\n",
        "cust_array = cust_array.T\n",
        "#cust_array\n",
        "random = np.random.RandomState(123456)\n",
        "pred = KMeans(n_clusters=4,random_state=random,n_init=9).fit_predict(cust_array)\n",
        "wsq['cluster_id']=pred\n",
        "print(wsq.sort_values('cluster_id'))\n",
        "wsq"
      ]
    },
    {
      "cell_type": "code",
      "execution_count": null,
      "metadata": {
        "colab": {
          "base_uri": "https://localhost:8080/"
        },
        "id": "WmPku9FJHHC3",
        "outputId": "a93e8779-496b-494a-e5ef-31173f9ec609"
      },
      "outputs": [],
      "source": [
        "wsq['cluster_id'].value_counts(ascending=True)"
      ]
    },
    {
      "cell_type": "markdown",
      "metadata": {
        "id": "dhhOw6xMs3dH"
      },
      "source": [
        "# クラスタリング:被験者Cを外れ値とした場合のk-means"
      ]
    },
    {
      "cell_type": "code",
      "execution_count": null,
      "metadata": {
        "colab": {
          "base_uri": "https://localhost:8080/",
          "height": 1000
        },
        "id": "Wb6XH0edtJ5o",
        "outputId": "35bb3b8a-975e-4151-e986-b5ffe546a9f2"
      },
      "outputs": [],
      "source": [
        "path_dsq = 'path'\n",
        "dsq_raw = pd.read_excel(path_dsq,index_col=0)\n",
        "dsq_trim = dsq_raw.iloc[20:28, 1:21]\n",
        "dsq=dsq_trim.transpose()\n",
        "dsq_rm_c = dsq.drop([\"C\"], axis=0)\n",
        "print(dsq_rm_c)\n",
        "cust_array = np.array([dsq_rm_c[1].tolist(),\n",
        "                       dsq_rm_c[2].tolist(),\n",
        "                       dsq_rm_c[3].tolist(),\n",
        "                       dsq_rm_c[4].tolist(),\n",
        "                       dsq_rm_c[5].tolist(),\n",
        "                       dsq_rm_c[6].tolist(),\n",
        "                       dsq_rm_c[7].tolist(),\n",
        "                       dsq_rm_c[8].tolist(),\n",
        "                       ])\n",
        "cust_array = cust_array.T\n",
        "cust_array\n",
        "pred = KMeans(n_clusters=4,random_state=random).fit_predict(cust_array)\n",
        "dsq_rm_c['cluster_id']=pred\n",
        "dsq_rm_c"
      ]
    },
    {
      "cell_type": "code",
      "execution_count": null,
      "metadata": {
        "colab": {
          "base_uri": "https://localhost:8080/"
        },
        "id": "J5EjKd4ctwxO",
        "outputId": "33dd4481-a5be-4053-91a1-ffc527ae41b7"
      },
      "outputs": [],
      "source": [
        "dsq_rm_c['cluster_id'].value_counts(ascending=True)"
      ]
    },
    {
      "cell_type": "code",
      "execution_count": null,
      "metadata": {
        "colab": {
          "base_uri": "https://localhost:8080/",
          "height": 1000
        },
        "id": "M1zJDLz4xV6g",
        "outputId": "a609b020-7cc1-4b97-caac-34949153269a"
      },
      "outputs": [],
      "source": [
        "path_wsq = 'path'\n",
        "wsq_raw = pd.read_excel(path_wsq,index_col=0)\n",
        "wsq_trim = wsq_raw.iloc[40:50, 1:21]\n",
        "wsq=wsq_trim.transpose()\n",
        "wsq_rm_c = wsq.drop([\"C\"], axis=0)\n",
        "print(wsq_rm_c)\n",
        "cust_array = np.array([wsq_rm_c[1].tolist(),\n",
        "                       wsq_rm_c[2].tolist(),\n",
        "                       wsq_rm_c[3].tolist(),\n",
        "                       wsq_rm_c[4].tolist(),\n",
        "                       wsq_rm_c[5].tolist(),\n",
        "                       wsq_rm_c[6].tolist(),\n",
        "                       wsq_rm_c[7].tolist(),\n",
        "                       wsq_rm_c[8].tolist(),\n",
        "                       wsq_rm_c[9].tolist(),\n",
        "                       wsq_rm_c[10].tolist(),\n",
        "                       ])\n",
        "cust_array = cust_array.T\n",
        "cust_array\n",
        "pred = KMeans(n_clusters=4,random_state=random).fit_predict(cust_array)\n",
        "wsq_rm_c['cluster_id']=pred\n",
        "wsq_rm_c"
      ]
    },
    {
      "cell_type": "code",
      "execution_count": null,
      "metadata": {
        "colab": {
          "base_uri": "https://localhost:8080/"
        },
        "id": "LE7xnJ0dxesj",
        "outputId": "863a4a67-16c4-49c7-881f-5d4e0adaf025"
      },
      "outputs": [],
      "source": [
        "wsq_rm_c['cluster_id'].value_counts(ascending=True)"
      ]
    }
  ],
  "metadata": {
    "colab": {
      "collapsed_sections": [],
      "name": "clustering.ipynb",
      "provenance": []
    },
    "kernelspec": {
      "display_name": "Python 3",
      "name": "python3"
    },
    "language_info": {
      "name": "python"
    }
  },
  "nbformat": 4,
  "nbformat_minor": 0
}
