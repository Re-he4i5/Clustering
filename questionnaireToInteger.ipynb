{
  "cells": [
    {
      "cell_type": "markdown",
      "metadata": {
        "id": "qf8uLUnBfLAb"
      },
      "source": [
        "# アンケート\n",
        "\n",
        " アンケート内容を数値化します。"
      ]
    },
    {
      "cell_type": "code",
      "execution_count": null,
      "metadata": {
        "colab": {
          "base_uri": "https://localhost:8080/"
        },
        "id": "vsIs37Gyfzuq",
        "outputId": "18a0dcbf-e148-4407-f658-a5ced6ba991c"
      },
      "outputs": [],
      "source": [
        "#ライブラリのインポート\n",
        "import pandas as pd\n",
        "import numpy as np\n",
        "#ドライブのマウント\n",
        "from google.colab import drive\n",
        "drive.mount('/content/drive')"
      ]
    },
    {
      "cell_type": "code",
      "execution_count": null,
      "metadata": {
        "colab": {
          "base_uri": "https://localhost:8080/",
          "height": 1000
        },
        "id": "8iQGgSczf2iS",
        "outputId": "2100eb3c-f140-4d0d-db6d-7340f397c44d"
      },
      "outputs": [],
      "source": [
        "#dataの取得\n",
        "path = 'path'\n",
        "data= pd.read_csv(path,encoding=\"UTF-8\",index_col=0)\n",
        "data.head()"
      ]
    },
    {
      "cell_type": "code",
      "execution_count": null,
      "metadata": {
        "id": "x5bEKL9KcryG"
      },
      "outputs": [],
      "source": [
        "#被験者の番号，名前，性別，年齢\n",
        "def answer_subject(data):\n",
        "  subject_lists = []\n",
        "  data_len = len(data)\n",
        "  for i in range(0,data_len):\n",
        "    subject_lists_i = []\n",
        "    for j in range(0,4):\n",
        "      answer = data.iloc[i,j]\n",
        "      subject_lists_i.append(answer)\n",
        "\n",
        "    subject_lists.append(subject_lists_i)\n",
        "    \n",
        "  return subject_lists"
      ]
    },
    {
      "cell_type": "code",
      "execution_count": null,
      "metadata": {
        "id": "UxEMaIkJbsvR"
      },
      "outputs": [],
      "source": [
        "#DSQのアンケート\n",
        "def answer_dsq(data):\n",
        "  data_len = len(data)\n",
        "  dsq_lists = []\n",
        "  for i in range(0,data_len):\n",
        "    dsq_lists_i = []\n",
        "    for j in range(4,22):\n",
        "      #print(data.iloc[i,j])\n",
        "      answer = data.iloc[i,j]\n",
        "      if answer == '全く当てはまらない':\n",
        "        answer = 1\n",
        "      elif answer == '少し当てはまる':\n",
        "        answer = 2\n",
        "      elif answer == 'かなり当てはまる':\n",
        "        answer = 3\n",
        "      elif answer == '非常に当てはまる':\n",
        "        answer = 4\n",
        "      else:\n",
        "        answer = answer\n",
        "\n",
        "      dsq_lists_i.append(answer)\n",
        "    dsq_lists.append(dsq_lists_i)\n",
        "  return dsq_lists"
      ]
    },
    {
      "cell_type": "code",
      "execution_count": null,
      "metadata": {
        "id": "ZWl1nY30qFtI"
      },
      "outputs": [],
      "source": [
        "#WSQのアンケート\n",
        "def answer_wsq(data):\n",
        "  data_len = len(data)\n",
        "  wsq_lists = []\n",
        "  for i in range(0,data_len):\n",
        "    wsq_lists_i = []\n",
        "    for j in range(22,60):\n",
        "      answer = data.iloc[i,j]\n",
        "      if answer == '気にせず運転する':\n",
        "        answer = 1\n",
        "      elif answer == '気配りしながら運転するが負担ではない':\n",
        "        answer = 2\n",
        "      elif answer == '運転することを少し負担に感じる':\n",
        "        answer = 3\n",
        "      elif answer == '緊張や無理をしいられて負担が大きい':\n",
        "        answer = 4\n",
        "      elif answer == '負担が大きすぎて運転したくない':\n",
        "        answer = 5\n",
        "      else:\n",
        "        answer = answer\n",
        "\n",
        "      wsq_lists_i.append(answer)\n",
        "    wsq_lists.append(wsq_lists_i)\n",
        "  return wsq_lists"
      ]
    },
    {
      "cell_type": "code",
      "execution_count": null,
      "metadata": {
        "id": "NJ-jRu-UG3wi"
      },
      "outputs": [],
      "source": [
        "#SDSQのアンケート\n",
        "def answer_sdsq(data):\n",
        "  data_len = len(data)\n",
        "  data_columns = len(data.columns)\n",
        "  sdsq_lists = []\n",
        "  for i in range(0,data_len):\n",
        "    sdsq_lists_i = []\n",
        "    for j in range(60,data_columns):\n",
        "      answer = data.iloc[i,j]\n",
        "      if answer == '全く当てはまらない':\n",
        "        answer = 1\n",
        "      elif answer == '少し当てはまる':\n",
        "        answer = 2\n",
        "      elif answer == 'かなり当てはまる':\n",
        "        answer = 3\n",
        "      elif answer == '非常に当てはまる':\n",
        "        answer = 4\n",
        "      else:\n",
        "        answer = asnwer\n",
        "\n",
        "      sdsq_lists_i.append(answer)\n",
        "    sdsq_lists.append(sdsq_lists_i)\n",
        "  return sdsq_lists"
      ]
    },
    {
      "cell_type": "code",
      "execution_count": null,
      "metadata": {
        "colab": {
          "base_uri": "https://localhost:8080/"
        },
        "id": "NzBCAk9kscUg",
        "outputId": "2fcbe129-7cc4-4b91-fbe5-85851de4bb66"
      },
      "outputs": [],
      "source": [
        "#取得データの確認\n",
        "subject_lists = answer_subject(data)\n",
        "print(subject_lists)\n",
        "dsq_lists = answer_dsq(data)\n",
        "print(dsq_lists)\n",
        "wsq_lists = answer_wsq(data)\n",
        "print(wsq_lists)\n",
        "sdsq_lists = answer_sdsq(data)\n",
        "print(sdsq_lists)"
      ]
    },
    {
      "cell_type": "code",
      "execution_count": null,
      "metadata": {
        "colab": {
          "base_uri": "https://localhost:8080/"
        },
        "id": "ZrvyAxJzRjQG",
        "outputId": "3517c189-ded2-4b0d-fa8c-8a9267ebe1ac"
      },
      "outputs": [],
      "source": [
        "path_dsq_tool = \"path\"\n",
        "dsq_tool = pd.read_excel(path_dsq_tool,sheet_name=1,index_col=0)\n",
        "dsq_tool.head()\n",
        "print(dsq_tool.head())\n",
        "print(dsq_tool.shape)"
      ]
    },
    {
      "cell_type": "code",
      "execution_count": null,
      "metadata": {
        "colab": {
          "base_uri": "https://localhost:8080/"
        },
        "id": "oczO_Cwd3Brp",
        "outputId": "c3b8b170-c662-456a-cc9f-7d78bd4810c7"
      },
      "outputs": [],
      "source": [
        "path_wsq_tool = \"path\"\n",
        "wsq_tool = pd.read_excel(path_wsq_tool,sheet_name=1,index_col=0)\n",
        "wsq_tool.head()\n",
        "print(wsq_tool.head())\n",
        "print(wsq_tool.shape)"
      ]
    },
    {
      "cell_type": "code",
      "execution_count": null,
      "metadata": {
        "colab": {
          "base_uri": "https://localhost:8080/"
        },
        "id": "RWjB6Duk4KJf",
        "outputId": "2be9774c-f020-43b4-96f4-61db34666e2e"
      },
      "outputs": [],
      "source": [
        "path_sdsq_tool = \"path\"\n",
        "sdsq_tool = pd.read_excel(path_sdsq_tool,sheet_name=1,index_col=0)\n",
        "sdsq_tool.head()\n",
        "print(sdsq_tool.head())\n",
        "print(sdsq_tool.shape)"
      ]
    },
    {
      "cell_type": "code",
      "execution_count": null,
      "metadata": {
        "id": "SSyM5ubdXsq9"
      },
      "outputs": [],
      "source": [
        "#DSQ用excel作成\n",
        "def dsq_excel(dsq_lists,dsq_tool):\n",
        "  dsq_len = len(dsq_lists)\n",
        "  for i in range(0,dsq_len):\n",
        "    dsq_len_i = len(dsq_lists[i])\n",
        "    for j in range(0,dsq_len_i):\n",
        "      dsq_tool.iloc[j,i+1] = dsq_lists[i][j]\n",
        "  return  dsq_tool\n"
      ]
    },
    {
      "cell_type": "code",
      "execution_count": null,
      "metadata": {
        "id": "uvcbYthE2hUs"
      },
      "outputs": [],
      "source": [
        "#WSQ用excel作成\n",
        "def wsq_excel(wsq_lists,wsq_tool):\n",
        "  wsq_len = len(wsq_lists)\n",
        "  for i in range(0,wsq_len):\n",
        "    wsq_len_i = len(wsq_lists[i])\n",
        "    for j in range(0,wsq_len_i):\n",
        "      wsq_tool.iloc[j,i+1] = wsq_lists[i][j]\n",
        "  return  wsq_tool"
      ]
    },
    {
      "cell_type": "code",
      "execution_count": null,
      "metadata": {
        "id": "BDFFJlT23-R3"
      },
      "outputs": [],
      "source": [
        "#SDSQ用excel作成\n",
        "def sdsq_excel(sdsq_lists,sdsq_tool):\n",
        "  sdsq_len = len(sdsq_lists)\n",
        "  for i in range(0,sdsq_len):\n",
        "    sdsq_len_i = len(sdsq_lists[i])\n",
        "    for j in range(0,sdsq_len_i):\n",
        "      sdsq_tool.iloc[j,i+1] = sdsq_lists[i][j]\n",
        "  return  sdsq_tool"
      ]
    },
    {
      "cell_type": "code",
      "execution_count": null,
      "metadata": {
        "colab": {
          "base_uri": "https://localhost:8080/"
        },
        "id": "cXQMQ0-kx8_i",
        "outputId": "d5509dc4-689c-4592-bf42-8d89afc13a0a"
      },
      "outputs": [],
      "source": [
        "dsq_tool = dsq_excel(dsq_lists,dsq_tool)\n",
        "print(dsq_tool.head())"
      ]
    },
    {
      "cell_type": "code",
      "execution_count": null,
      "metadata": {
        "colab": {
          "base_uri": "https://localhost:8080/"
        },
        "id": "9rPe-YQu2uvK",
        "outputId": "2b845404-b000-40b4-954e-bfa052e0b069"
      },
      "outputs": [],
      "source": [
        "wsq_tool = wsq_excel(wsq_lists,wsq_tool)\n",
        "print(wsq_tool.head())"
      ]
    },
    {
      "cell_type": "code",
      "execution_count": null,
      "metadata": {
        "colab": {
          "base_uri": "https://localhost:8080/"
        },
        "id": "nhWsrgXL31DA",
        "outputId": "07903459-03ed-416c-da25-f5584fe7444b"
      },
      "outputs": [],
      "source": [
        "sdsq_tool = sdsq_excel(sdsq_lists,sdsq_tool)\n",
        "print(sdsq_tool.head())"
      ]
    },
    {
      "cell_type": "code",
      "execution_count": null,
      "metadata": {
        "id": "a9WXbWt31OyH"
      },
      "outputs": [],
      "source": [
        "dsq_tool.to_excel('dsq_finish.xlsx',sheet_name='1')\n",
        "wsq_tool.to_excel('wsq_finish.xlsx',sheet_name='1')\n",
        "sdsq_tool.to_excel('sdsq_finish.xlsx',sheet_name='1')"
      ]
    }
  ],
  "metadata": {
    "accelerator": "GPU",
    "colab": {
      "collapsed_sections": [],
      "name": "DSanswerToInteger.ipynb",
      "provenance": []
    },
    "kernelspec": {
      "display_name": "Python 3",
      "name": "python3"
    },
    "language_info": {
      "name": "python"
    }
  },
  "nbformat": 4,
  "nbformat_minor": 0
}
